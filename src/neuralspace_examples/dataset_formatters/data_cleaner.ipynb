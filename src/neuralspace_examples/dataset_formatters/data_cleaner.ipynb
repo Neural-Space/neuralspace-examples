{
 "cells": [
  {
   "cell_type": "code",
   "execution_count": 1,
   "metadata": {
    "collapsed": true
   },
   "outputs": [],
   "source": [
    "import pandas as pd"
   ]
  },
  {
   "cell_type": "code",
   "execution_count": 3,
   "outputs": [],
   "source": [
    "df =pd.read_csv('/Users/prakashramesh/others/neuralspace-examples/datasets/nlu/ur/roman-urudu/train.csv', encoding=\"UTF-8\")"
   ],
   "metadata": {
    "collapsed": false,
    "pycharm": {
     "name": "#%%\n"
    }
   }
  },
  {
   "cell_type": "code",
   "execution_count": 15,
   "outputs": [
    {
     "data": {
      "text/plain": "label             2\ntext               \nName: 3551, dtype: object"
     },
     "execution_count": 15,
     "metadata": {},
     "output_type": "execute_result"
    }
   ],
   "source": [
    "df.loc(axis=0)[3551]"
   ],
   "metadata": {
    "collapsed": false,
    "pycharm": {
     "name": "#%%\n"
    }
   }
  },
  {
   "cell_type": "code",
   "execution_count": 16,
   "outputs": [
    {
     "data": {
      "text/plain": "       label                                               text\n0          2  Unhe 1976 mein Akadmi Adbiyat Pakistan ka pehl...\n1          2      Adha palace karaye pe de do...... Hahaha epic\n2          0                     acha ity dis ketry jo payo aa \n3          2                           Sach main esa he hota ha\n4          1  In ki piadaish ke aik baras bad hi un ke walde...\n...      ...                                                ...\n18193      2   Mother Teresa ki khidmat ke eteraf mein unhei...\n18194      2                                Apki shop kaha hai?\n18195      2                        Baat moun main hi reh gayi.\n18196      2                                 Kiya hae 2:50 pey?\n18197      2                Lo g bola tu tujy v doc hi jy ga na\n\n[18198 rows x 2 columns]",
      "text/html": "<div>\n<style scoped>\n    .dataframe tbody tr th:only-of-type {\n        vertical-align: middle;\n    }\n\n    .dataframe tbody tr th {\n        vertical-align: top;\n    }\n\n    .dataframe thead th {\n        text-align: right;\n    }\n</style>\n<table border=\"1\" class=\"dataframe\">\n  <thead>\n    <tr style=\"text-align: right;\">\n      <th></th>\n      <th>label</th>\n      <th>text</th>\n    </tr>\n  </thead>\n  <tbody>\n    <tr>\n      <th>0</th>\n      <td>2</td>\n      <td>Unhe 1976 mein Akadmi Adbiyat Pakistan ka pehl...</td>\n    </tr>\n    <tr>\n      <th>1</th>\n      <td>2</td>\n      <td>Adha palace karaye pe de do...... Hahaha epic</td>\n    </tr>\n    <tr>\n      <th>2</th>\n      <td>0</td>\n      <td>acha ity dis ketry jo payo aa</td>\n    </tr>\n    <tr>\n      <th>3</th>\n      <td>2</td>\n      <td>Sach main esa he hota ha</td>\n    </tr>\n    <tr>\n      <th>4</th>\n      <td>1</td>\n      <td>In ki piadaish ke aik baras bad hi un ke walde...</td>\n    </tr>\n    <tr>\n      <th>...</th>\n      <td>...</td>\n      <td>...</td>\n    </tr>\n    <tr>\n      <th>18193</th>\n      <td>2</td>\n      <td>Mother Teresa ki khidmat ke eteraf mein unhei...</td>\n    </tr>\n    <tr>\n      <th>18194</th>\n      <td>2</td>\n      <td>Apki shop kaha hai?</td>\n    </tr>\n    <tr>\n      <th>18195</th>\n      <td>2</td>\n      <td>Baat moun main hi reh gayi.</td>\n    </tr>\n    <tr>\n      <th>18196</th>\n      <td>2</td>\n      <td>Kiya hae 2:50 pey?</td>\n    </tr>\n    <tr>\n      <th>18197</th>\n      <td>2</td>\n      <td>Lo g bola tu tujy v doc hi jy ga na</td>\n    </tr>\n  </tbody>\n</table>\n<p>18198 rows × 2 columns</p>\n</div>"
     },
     "execution_count": 16,
     "metadata": {},
     "output_type": "execute_result"
    }
   ],
   "source": [
    "df.dropna()"
   ],
   "metadata": {
    "collapsed": false,
    "pycharm": {
     "name": "#%%\n"
    }
   }
  },
  {
   "cell_type": "code",
   "execution_count": null,
   "outputs": [],
   "source": [],
   "metadata": {
    "collapsed": false,
    "pycharm": {
     "name": "#%%\n"
    }
   }
  }
 ],
 "metadata": {
  "kernelspec": {
   "display_name": "Python 3",
   "language": "python",
   "name": "python3"
  },
  "language_info": {
   "codemirror_mode": {
    "name": "ipython",
    "version": 2
   },
   "file_extension": ".py",
   "mimetype": "text/x-python",
   "name": "python",
   "nbconvert_exporter": "python",
   "pygments_lexer": "ipython2",
   "version": "2.7.6"
  }
 },
 "nbformat": 4,
 "nbformat_minor": 0
}